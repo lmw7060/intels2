{
  "nbformat": 4,
  "nbformat_minor": 0,
  "metadata": {
    "colab": {
      "provenance": []
    },
    "kernelspec": {
      "name": "python3",
      "display_name": "Python 3"
    },
    "language_info": {
      "name": "python"
    }
  },
  "cells": [
    {
      "cell_type": "code",
      "execution_count": null,
      "metadata": {
        "id": "Xi5O6bCdFJXO"
      },
      "outputs": [],
      "source": [
        "import numpy as np\n",
        "import matplotlib.pyplot as plt\n",
        "from tensorflow.keras.models import Sequential\n",
        "from tensorflow.keras.layers import Dense\n",
        "from tensorflow.keras.optimizers import Adam\n",
        "from keras.utils import to_categorical\n",
        "from tensorflow.keras import datasets\n",
        "from sklearn.datasets import load_iris\n",
        "from sklearn.model_selection import train_test_split\n",
        "from sklearn.preprocessing import OneHotEncoder\n",
        "import pandas as pd"
      ]
    },
    {
      "cell_type": "code",
      "source": [
        "(X_train,Y_train),(X_test,Y_test) = datasets.mnist.load_data()\n",
        "print(X_train.shape,Y_train.shape)\n",
        "print(X_test.shape,Y_test.shape)"
      ],
      "metadata": {
        "colab": {
          "base_uri": "https://localhost:8080/"
        },
        "id": "5x9KerGVGtaE",
        "outputId": "9ad478f4-9577-4f87-e236-2edc91392329"
      },
      "execution_count": null,
      "outputs": [
        {
          "output_type": "stream",
          "name": "stdout",
          "text": [
            "Downloading data from https://storage.googleapis.com/tensorflow/tf-keras-datasets/mnist.npz\n",
            "11490434/11490434 [==============================] - 0s 0us/step\n",
            "(60000, 28, 28) (60000,)\n",
            "(10000, 28, 28) (10000,)\n"
          ]
        }
      ]
    },
    {
      "cell_type": "code",
      "source": [
        "my_sample = np.random.randint(60000)\n",
        "plt.imshow(X_train[my_sample],cmap='gray')\n",
        "plt.show()\n",
        "print(Y_train[my_sample])\n",
        "print(X_train[my_sample])"
      ],
      "metadata": {
        "colab": {
          "base_uri": "https://localhost:8080/",
          "height": 1000
        },
        "id": "GPbGblKEHTgj",
        "outputId": "10d64e42-069f-45d0-883e-e817335941a9"
      },
      "execution_count": null,
      "outputs": [
        {
          "output_type": "display_data",
          "data": {
            "text/plain": [
              "<Figure size 640x480 with 1 Axes>"
            ],
            "image/png": "[encoded data removed]"
          },
          "metadata": {}
        },
        {
          "output_type": "stream",
          "name": "stdout",
          "text": [
            "8\n",
            "[[  0   0   0   0   0   0   0   0   0   0   0   0   0   0   0   0   0   0\n",
            "    0   0   0   0   0   0   0   0   0   0]\n",
            " [  0   0   0   0   0   0   0   0   0   0   0   0   0   0   0   0   0   0\n",
            "    0   0   0   0   0   0   0   0   0   0]\n",
            " [  0   0   0   0   0   0   0   0   0   0   0   0   0   0   0   0   0   0\n",
            "    0   0   0   0   0   0   0   0   0   0]\n",
            " [  0   0   0   0   0   0   0   0   0   0   0   0   0   0   0   0   0   0\n",
            "    0   0   0   0   0   0   0   0   0   0]\n",
            " [  0   0   0   0   0   0   0   0   0   0   0   0   0  99 130 253 255 218\n",
            "   37   0   0   0   0   0   0   0   0   0]\n",
            " [  0   0   0   0   0   0   0   0   0   0   0   8 139 249 252 252 253 252\n",
            "   88   0   0   0   0   0   0   0   0   0]\n",
            " [  0   0   0   0   0   0   0   0   0   0   5 131 252 252 252 252 253 252\n",
            "   88   0   0   0   0   0   0   0   0   0]\n",
            " [  0   0   0   0   0   0   0   0   0   0  75 252 252 252 252 252 253 252\n",
            "   88   0   0   0   0   0   0   0   0   0]\n",
            " [  0   0   0   0   0   0   0   0   0  36 215 252 252 252 168  29  29  29\n",
            "   10   0   0   0   0   0   0   0   0   0]\n",
            " [  0   0   0   0   0   0   0   0   0 120 252 252 252 241  52   0   0   0\n",
            "    0   0   0   0   0   0   0   0   0   0]\n",
            " [  0   0   0   0   0   0   0   0   0 120 252 252 252  84   0   0   0   0\n",
            "    0   0   0   0   0   0   0   0   0   0]\n",
            " [  0   0   0   0   0   0   0   0   0  77 241 252 252  14   0   0   0  22\n",
            "   37  90  90  55 112   0   0   0   0   0]\n",
            " [  0   0   0   0   0   0   0   0   0   0 223 252 252 196 193 193 194 207\n",
            "  217 252 207  37  28   0   0   0   0   0]\n",
            " [  0   0   0   0   0   0   0   0   0   0 135 252 252 252 252 252 253 252\n",
            "  252 252 252  74   0   0   0   0   0   0]\n",
            " [  0   0   0   0   0   0   0   0   0  50 236 253 253 253 253 253 255 253\n",
            "   89  71 105   0   0   0   0   0   0   0]\n",
            " [  0   0   0   0   0   0   0   0   0 120 252 252 252 252 252 252 253 202\n",
            "   68   0   0   0   0   0   0   0   0   0]\n",
            " [  0   0   0   0   0   0   0   0   0 120 252 252 252 237 248 252 253  53\n",
            "    0   0   0   0   0   0   0   0   0   0]\n",
            " [  0   0   0   0   0   0   0   0   8 182 252 252 252  14 124 252 253 192\n",
            "    0   0   0   0   0   0   0   0   0   0]\n",
            " [  0   0   0   0   0   0   0   0  15 252 252 252 252  14   6 160 253 122\n",
            "   27   0   0   0   0   0   0   0   0   0]\n",
            " [  0   0   0   0   0   0   0   0  15 252 252 252 252 129  25 149 253 252\n",
            "   88   0   0   0   0   0   0   0   0   0]\n",
            " [  0   0   0   0   0   0   0   0   7 181 252 252 252 252 231 203 253 252\n",
            "   88   0   0   0   0   0   0   0   0   0]\n",
            " [  0   0   0   0   0   0   0   0   0  77 241 252 252 252 252 252 253 252\n",
            "   88   0   0   0   0   0   0   0   0   0]\n",
            " [  0   0   0   0   0   0   0   0   0   0  52 164 231 252 252 252 253 206\n",
            "   21   0   0   0   0   0   0   0   0   0]\n",
            " [  0   0   0   0   0   0   0   0   0   0   0   0  55 244 225 103 253 105\n",
            "    0   0   0   0   0   0   0   0   0   0]\n",
            " [  0   0   0   0   0   0   0   0   0   0   0   0   0   0   0   0   0   0\n",
            "    0   0   0   0   0   0   0   0   0   0]\n",
            " [  0   0   0   0   0   0   0   0   0   0   0   0   0   0   0   0   0   0\n",
            "    0   0   0   0   0   0   0   0   0   0]\n",
            " [  0   0   0   0   0   0   0   0   0   0   0   0   0   0   0   0   0   0\n",
            "    0   0   0   0   0   0   0   0   0   0]\n",
            " [  0   0   0   0   0   0   0   0   0   0   0   0   0   0   0   0   0   0\n",
            "    0   0   0   0   0   0   0   0   0   0]]\n"
          ]
        }
      ]
    },
    {
      "cell_type": "code",
      "source": [
        "y_train = to_categorical(Y_train)   #onehotencoding\n",
        "y_test = to_categorical(Y_test)\n",
        "print(Y_train[5000])\n",
        "print(y_train[5000])"
      ],
      "metadata": {
        "colab": {
          "base_uri": "https://localhost:8080/"
        },
        "id": "uN5PSJ_GJACj",
        "outputId": "9a52da2d-9525-4df4-ad6a-abe37dbb86c3"
      },
      "execution_count": null,
      "outputs": [
        {
          "output_type": "stream",
          "name": "stdout",
          "text": [
            "7\n",
            "[0. 0. 0. 0. 0. 0. 0. 1. 0. 0.]\n"
          ]
        }
      ]
    },
    {
      "cell_type": "code",
      "source": [
        "x_train = X_train.reshape(-1,28 * 28)\n",
        "x_test = X_test.reshape(-1,28* 28)\n",
        "X_train = x_train / 255\n",
        "x_test = x_test /255\n",
        "print(x_train.shape)"
      ],
      "metadata": {
        "colab": {
          "base_uri": "https://localhost:8080/"
        },
        "id": "HmZhS6wbJxMi",
        "outputId": "e5e21652-e54d-4d46-e1b7-63505913fc35"
      },
      "execution_count": null,
      "outputs": [
        {
          "output_type": "stream",
          "name": "stdout",
          "text": [
            "(60000, 784)\n"
          ]
        }
      ]
    },
    {
      "cell_type": "code",
      "source": [
        "model = Sequential()\n",
        "model.add(Dense(128,input_dim=784,activation='relu'))\n",
        "model.add(Dense(128,activation='relu'))\n",
        "model.add(Dense(10,activation='softmax'))\n",
        "model.summary()"
      ],
      "metadata": {
        "id": "5k37MAYoKeE0",
        "colab": {
          "base_uri": "https://localhost:8080/"
        },
        "outputId": "562fdb7f-218c-4ea6-8bae-2b8a03bac1ad"
      },
      "execution_count": null,
      "outputs": [
        {
          "output_type": "stream",
          "name": "stdout",
          "text": [
            "Model: \"sequential\"\n",
            "_________________________________________________________________\n",
            " Layer (type)                Output Shape              Param #   \n",
            "=================================================================\n",
            " dense (Dense)               (None, 128)               100480    \n",
            "                                                                 \n",
            " dense_1 (Dense)             (None, 128)               16512     \n",
            "                                                                 \n",
            " dense_2 (Dense)             (None, 10)                1290      \n",
            "                                                                 \n",
            "=================================================================\n",
            "Total params: 118282 (462.04 KB)\n",
            "Trainable params: 118282 (462.04 KB)\n",
            "Non-trainable params: 0 (0.00 Byte)\n",
            "_________________________________________________________________\n"
          ]
        }
      ]
    },
    {
      "cell_type": "code",
      "source": [
        "opt = Adam(learning_rate=0.01)\n",
        "model.compile(opt,loss='categorical_crossentropy',\n",
        "              metrics=['accuracy'])\n",
        "fit_hist=model.fit(x_train,y_train,batch_size=256,epochs=15,validation_split=0.2,verbose=1)"
      ],
      "metadata": {
        "colab": {
          "base_uri": "https://localhost:8080/"
        },
        "id": "f40ygPIa5owJ",
        "outputId": "c44f440e-e8cf-446d-8c72-76061bbcc9c8"
      },
      "execution_count": null,
      "outputs": [
        {
          "output_type": "stream",
          "name": "stdout",
          "text": [
            "Epoch 1/15\n",
            "188/188 [==============================] - 3s 9ms/step - loss: 11.3948 - accuracy: 0.7465 - val_loss: 0.5169 - val_accuracy: 0.8607\n",
            "Epoch 2/15\n",
            "188/188 [==============================] - 1s 8ms/step - loss: 0.4240 - accuracy: 0.8796 - val_loss: 0.3644 - val_accuracy: 0.8927\n",
            "Epoch 3/15\n",
            "188/188 [==============================] - 2s 12ms/step - loss: 0.3239 - accuracy: 0.9070 - val_loss: 0.2871 - val_accuracy: 0.9160\n",
            "Epoch 4/15\n",
            "188/188 [==============================] - 2s 9ms/step - loss: 0.2709 - accuracy: 0.9229 - val_loss: 0.2647 - val_accuracy: 0.9279\n",
            "Epoch 5/15\n",
            "188/188 [==============================] - 1s 7ms/step - loss: 0.2466 - accuracy: 0.9304 - val_loss: 0.2718 - val_accuracy: 0.9274\n",
            "Epoch 6/15\n",
            "188/188 [==============================] - 1s 8ms/step - loss: 0.2302 - accuracy: 0.9358 - val_loss: 0.2404 - val_accuracy: 0.9374\n",
            "Epoch 7/15\n",
            "188/188 [==============================] - 1s 7ms/step - loss: 0.2097 - accuracy: 0.9414 - val_loss: 0.2575 - val_accuracy: 0.9287\n",
            "Epoch 8/15\n",
            "188/188 [==============================] - 1s 7ms/step - loss: 0.2086 - accuracy: 0.9408 - val_loss: 0.2328 - val_accuracy: 0.9425\n",
            "Epoch 9/15\n",
            "188/188 [==============================] - 1s 8ms/step - loss: 0.1913 - accuracy: 0.9465 - val_loss: 0.2268 - val_accuracy: 0.9427\n",
            "Epoch 10/15\n",
            "188/188 [==============================] - 1s 7ms/step - loss: 0.1809 - accuracy: 0.9490 - val_loss: 0.2238 - val_accuracy: 0.9398\n",
            "Epoch 11/15\n",
            "188/188 [==============================] - 1s 8ms/step - loss: 0.1765 - accuracy: 0.9497 - val_loss: 0.2765 - val_accuracy: 0.9308\n",
            "Epoch 12/15\n",
            "188/188 [==============================] - 2s 11ms/step - loss: 0.1756 - accuracy: 0.9505 - val_loss: 0.2442 - val_accuracy: 0.9396\n",
            "Epoch 13/15\n",
            "188/188 [==============================] - 2s 9ms/step - loss: 0.1770 - accuracy: 0.9509 - val_loss: 0.2562 - val_accuracy: 0.9327\n",
            "Epoch 14/15\n",
            "188/188 [==============================] - 1s 7ms/step - loss: 0.1603 - accuracy: 0.9539 - val_loss: 0.2459 - val_accuracy: 0.9431\n",
            "Epoch 15/15\n",
            "188/188 [==============================] - 1s 8ms/step - loss: 0.1703 - accuracy: 0.9520 - val_loss: 0.2110 - val_accuracy: 0.9463\n"
          ]
        }
      ]
    },
    {
      "cell_type": "code",
      "source": [
        "score = model.evaluate(x_test,y_test,verbose=0)\n",
        "print('accuracy',score[1])"
      ],
      "metadata": {
        "colab": {
          "base_uri": "https://localhost:8080/"
        },
        "id": "yvAkh9j56Wbp",
        "outputId": "2cc4313e-766b-4c12-fbd8-f6518bdeb99f"
      },
      "execution_count": null,
      "outputs": [
        {
          "output_type": "stream",
          "name": "stdout",
          "text": [
            "accuracy 0.08919999748468399\n"
          ]
        }
      ]
    },
    {
      "cell_type": "code",
      "source": [
        "plt.plot(fit_hist.history['accuracy'])\n",
        "plt.plot(fit_hist.history['val_accuracy'])\n",
        "plt.show()"
      ],
      "metadata": {
        "colab": {
          "base_uri": "https://localhost:8080/",
          "height": 430
        },
        "id": "V2Wuuro86n6n",
        "outputId": "6e8abc90-672d-4040-bc4a-f8e3bd67e36a"
      },
      "execution_count": null,
      "outputs": [
        {
          "output_type": "display_data",
          "data": {
            "text/plain": [
              "<Figure size 640x480 with 1 Axes>"
            ],
            "image/png": "[encoded data removed]"
          },
          "metadata": {}
        }
      ]
    },
    {
      "cell_type": "code",
      "source": [
        "my_sample=np.random.randint(10000)\n",
        "plt.imshow(X_test[my_sample],cmap='gray')\n",
        "print(Y_test[my_sample])\n",
        "pred = model.predict(x_test[my_sample].reshape(-1,784))\n",
        "print(pred)\n",
        "print(np.argmax(pred))"
      ],
      "metadata": {
        "colab": {
          "base_uri": "https://localhost:8080/",
          "height": 522
        },
        "id": "W2zdGXoi7XnY",
        "outputId": "077d52b9-35e7-4055-a8e3-f3f50c82d7c7"
      },
      "execution_count": null,
      "outputs": [
        {
          "output_type": "stream",
          "name": "stdout",
          "text": [
            "6\n",
            "1/1 [==============================] - 0s 19ms/step\n",
            "[[0.13179952 0.04083393 0.04986797 0.01984686 0.05456404 0.37806717\n",
            "  0.07915097 0.09958056 0.06001277 0.08627619]]\n",
            "5\n"
          ]
        },
        {
          "output_type": "display_data",
          "data": {
            "text/plain": [
              "<Figure size 640x480 with 1 Axes>"
            ],
            "image/png": "[encoded data removed]"
          },
          "metadata": {}
        }
      ]
    }
  ]
}