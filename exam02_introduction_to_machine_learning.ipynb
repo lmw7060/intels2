{
  "nbformat": 4,
  "nbformat_minor": 0,
  "metadata": {
    "colab": {
      "provenance": []
    },
    "kernelspec": {
      "name": "python3",
      "display_name": "Python 3"
    },
    "language_info": {
      "name": "python"
    }
  },
  "cells": [
    {
      "cell_type": "markdown",
      "source": [
        "###그래프 연산"
      ],
      "metadata": {
        "id": "2I6ztqmIE5QT"
      }
    },
    {
      "cell_type": "code",
      "source": [
        "class add_graph: #더하기 그래프\n",
        "    def __init__(self):\n",
        "        pass\n",
        "    def forward(self, x, y):\n",
        "        out = x + y\n",
        "        return out\n",
        "    def backword(self, dout):\n",
        "        dx = 1 * dout\n",
        "        dy = 1 * dout\n",
        "        return dx, dy"
      ],
      "metadata": {
        "id": "pGXIjMziFap1"
      },
      "execution_count": null,
      "outputs": []
    },
    {
      "cell_type": "code",
      "source": [
        "class mul_graph: #곱하기 그래프\n",
        "    def __init__(self):\n",
        "        self.x = None\n",
        "        self.y = None\n",
        "    def forward(self, x, y):\n",
        "        self.x = x\n",
        "        self.y = y\n",
        "        out = x * y\n",
        "        return out\n",
        "    def backword(self, dout):\n",
        "        dx = self.y * dout\n",
        "        dy = self.x * dout\n",
        "        return dx, dy"
      ],
      "metadata": {
        "id": "jg6AkZ7DFvKJ"
      },
      "execution_count": null,
      "outputs": []
    },
    {
      "cell_type": "code",
      "source": [
        "class mse_graph:\n",
        "    def __init__(self):\n",
        "        self.loss = None\n",
        "        self.y= None\n",
        "        self.t = None\n",
        "        self.x= None\n",
        "    def forward(self,y,t):\n",
        "        self.t = t\n",
        "        self.y = y\n",
        "        self.loss=np.square(self.t-self.y).sum()/self.t.shape[0]\n",
        "        return self.loss\n",
        "    def backward(self,x,dout=1):\n",
        "        data_size = self.t.shape[0]\n",
        "        dweight_mse = (((self.y-self.t)*x).sum()*2 / data_size)\n",
        "        dbias_mse = (self.y-self.t).sum()*2 / data_size\n",
        "        return dweight_mse,dbias_mse"
      ],
      "metadata": {
        "id": "mi6BFfIytOhR"
      },
      "execution_count": null,
      "outputs": []
    },
    {
      "cell_type": "code",
      "source": [
        "apple = 100\n",
        "apple_num = 2\n",
        "orange = 150\n",
        "orange_num = 3\n",
        "tax = 1.1"
      ],
      "metadata": {
        "id": "o-Xe_jeaGBcp"
      },
      "execution_count": null,
      "outputs": []
    },
    {
      "cell_type": "code",
      "source": [
        "mul_apple_graph = mul_graph()\n",
        "mul_orange_graph = mul_graph()\n",
        "add_apple_orange_graph = add_graph()\n",
        "mul_tax_graph = mul_graph()"
      ],
      "metadata": {
        "id": "dCCTfECtGYYI"
      },
      "execution_count": null,
      "outputs": []
    },
    {
      "cell_type": "code",
      "source": [
        "apple_price = mul_apple_graph.forward(apple,apple_num) #사과 값\n",
        "orange_price =mul_orange_graph.forward(orange,orange_num) #오렌지 값\n",
        "all_price = add_apple_orange_graph.forward(apple_price,orange_price) #합친 값\n",
        "total_price = mul_tax_graph.forward(all_price, tax) #세금후 값\n",
        "print(total_price) #소수점 오류"
      ],
      "metadata": {
        "colab": {
          "base_uri": "https://localhost:8080/"
        },
        "id": "0GG6pqGTGdyF",
        "outputId": "e73c2bd6-45e2-4ccb-b2eb-022db79aa35f"
      },
      "execution_count": null,
      "outputs": [
        {
          "output_type": "stream",
          "name": "stdout",
          "text": [
            "715.0000000000001\n"
          ]
        }
      ]
    },
    {
      "cell_type": "code",
      "source": [
        "dprice = 1\n",
        "dall_price, dtax =mul_tax_graph.backword(dprice)\n",
        "dapple_price, dorange_price = add_apple_orange_graph.backword(dall_price)\n",
        "dorange, dorange_num = mul_orange_graph.backword(dorange_price)\n",
        "dapple,dapple_num = mul_apple_graph.backword(dapple_price)\n",
        "print('dApple',dapple)\n",
        "print('dApple_num',dapple_num)\n",
        "print('dOrange',dorange)\n",
        "print('dOrange_num',dorange_num)"
      ],
      "metadata": {
        "colab": {
          "base_uri": "https://localhost:8080/"
        },
        "id": "wHHGTKdgISjZ",
        "outputId": "1e044314-4d86-4e02-a989-c03987942fa1"
      },
      "execution_count": null,
      "outputs": [
        {
          "output_type": "stream",
          "name": "stdout",
          "text": [
            "dApple 2.2\n",
            "dApple_num 110.00000000000001\n",
            "dOrange 3.3000000000000003\n",
            "dOrange_num 165.0\n"
          ]
        }
      ]
    },
    {
      "cell_type": "code",
      "source": [
        "import numpy as np"
      ],
      "metadata": {
        "id": "wwVzSxJ7k9BE"
      },
      "execution_count": null,
      "outputs": []
    },
    {
      "cell_type": "code",
      "source": [
        "def celcius_to_fahrenheit(x):\n",
        "    return x * 1.8 + 32"
      ],
      "metadata": {
        "id": "FMXTQQVolBKi"
      },
      "execution_count": null,
      "outputs": []
    },
    {
      "cell_type": "code",
      "source": [
        "weight = np.random.uniform(0,5,1)\n",
        "print(weight)\n",
        "bias = 0"
      ],
      "metadata": {
        "colab": {
          "base_uri": "https://localhost:8080/"
        },
        "id": "jfstB-AblQzz",
        "outputId": "f3e451a4-06d2-481b-c187-8f2599c07608"
      },
      "execution_count": null,
      "outputs": [
        {
          "output_type": "stream",
          "name": "stdout",
          "text": [
            "[4.03101951]\n"
          ]
        }
      ]
    },
    {
      "cell_type": "code",
      "source": [
        "data_C = np.arange(0, 100)\n",
        "data_F = celcius_to_fahrenheit(data_C)\n",
        "scaled_data_C = data_C / 100\n",
        "scaled_data_F = data_F / 100\n",
        "print(scaled_data_C)\n",
        "print(scaled_data_F)"
      ],
      "metadata": {
        "colab": {
          "base_uri": "https://localhost:8080/"
        },
        "id": "Xtuj3xmrldmj",
        "outputId": "455c62a0-db9e-4410-9c64-b74463e1b0ec"
      },
      "execution_count": null,
      "outputs": [
        {
          "output_type": "stream",
          "name": "stdout",
          "text": [
            "[0.   0.01 0.02 0.03 0.04 0.05 0.06 0.07 0.08 0.09 0.1  0.11 0.12 0.13\n",
            " 0.14 0.15 0.16 0.17 0.18 0.19 0.2  0.21 0.22 0.23 0.24 0.25 0.26 0.27\n",
            " 0.28 0.29 0.3  0.31 0.32 0.33 0.34 0.35 0.36 0.37 0.38 0.39 0.4  0.41\n",
            " 0.42 0.43 0.44 0.45 0.46 0.47 0.48 0.49 0.5  0.51 0.52 0.53 0.54 0.55\n",
            " 0.56 0.57 0.58 0.59 0.6  0.61 0.62 0.63 0.64 0.65 0.66 0.67 0.68 0.69\n",
            " 0.7  0.71 0.72 0.73 0.74 0.75 0.76 0.77 0.78 0.79 0.8  0.81 0.82 0.83\n",
            " 0.84 0.85 0.86 0.87 0.88 0.89 0.9  0.91 0.92 0.93 0.94 0.95 0.96 0.97\n",
            " 0.98 0.99]\n",
            "[0.32  0.338 0.356 0.374 0.392 0.41  0.428 0.446 0.464 0.482 0.5   0.518\n",
            " 0.536 0.554 0.572 0.59  0.608 0.626 0.644 0.662 0.68  0.698 0.716 0.734\n",
            " 0.752 0.77  0.788 0.806 0.824 0.842 0.86  0.878 0.896 0.914 0.932 0.95\n",
            " 0.968 0.986 1.004 1.022 1.04  1.058 1.076 1.094 1.112 1.13  1.148 1.166\n",
            " 1.184 1.202 1.22  1.238 1.256 1.274 1.292 1.31  1.328 1.346 1.364 1.382\n",
            " 1.4   1.418 1.436 1.454 1.472 1.49  1.508 1.526 1.544 1.562 1.58  1.598\n",
            " 1.616 1.634 1.652 1.67  1.688 1.706 1.724 1.742 1.76  1.778 1.796 1.814\n",
            " 1.832 1.85  1.868 1.886 1.904 1.922 1.94  1.958 1.976 1.994 2.012 2.03\n",
            " 2.048 2.066 2.084 2.102]\n"
          ]
        }
      ]
    },
    {
      "cell_type": "code",
      "source": [
        "weight_graph = mul_graph()\n",
        "bias_graph = add_graph()"
      ],
      "metadata": {
        "id": "PRng7IPTmbHD"
      },
      "execution_count": null,
      "outputs": []
    },
    {
      "cell_type": "code",
      "source": [
        "weight_data = weight_graph.forward(weight,scaled_data_C)\n",
        "predict_data = bias_graph.forward(weight_data, bias)\n",
        "print(predict_data)"
      ],
      "metadata": {
        "colab": {
          "base_uri": "https://localhost:8080/"
        },
        "id": "m_s5zfBlmnQj",
        "outputId": "a402a03c-50a7-43d1-a647-af2de357118e"
      },
      "execution_count": null,
      "outputs": [
        {
          "output_type": "stream",
          "name": "stdout",
          "text": [
            "[0.         0.0403102  0.08062039 0.12093059 0.16124078 0.20155098\n",
            " 0.24186117 0.28217137 0.32248156 0.36279176 0.40310195 0.44341215\n",
            " 0.48372234 0.52403254 0.56434273 0.60465293 0.64496312 0.68527332\n",
            " 0.72558351 0.76589371 0.8062039  0.8465141  0.88682429 0.92713449\n",
            " 0.96744468 1.00775488 1.04806507 1.08837527 1.12868546 1.16899566\n",
            " 1.20930585 1.24961605 1.28992624 1.33023644 1.37054663 1.41085683\n",
            " 1.45116702 1.49147722 1.53178741 1.57209761 1.6124078  1.652718\n",
            " 1.69302819 1.73333839 1.77364858 1.81395878 1.85426897 1.89457917\n",
            " 1.93488936 1.97519956 2.01550975 2.05581995 2.09613014 2.13644034\n",
            " 2.17675053 2.21706073 2.25737092 2.29768112 2.33799131 2.37830151\n",
            " 2.41861171 2.4589219  2.4992321  2.53954229 2.57985249 2.62016268\n",
            " 2.66047288 2.70078307 2.74109327 2.78140346 2.82171366 2.86202385\n",
            " 2.90233405 2.94264424 2.98295444 3.02326463 3.06357483 3.10388502\n",
            " 3.14419522 3.18450541 3.22481561 3.2651258  3.305436   3.34574619\n",
            " 3.38605639 3.42636658 3.46667678 3.50698697 3.54729717 3.58760736\n",
            " 3.62791756 3.66822775 3.70853795 3.74884814 3.78915834 3.82946853\n",
            " 3.86977873 3.91008892 3.95039912 3.99070931]\n"
          ]
        }
      ]
    },
    {
      "cell_type": "code",
      "source": [
        "dout = 1\n",
        "dbias, dweighted_data = bias_graph.backword(dout) #미분\n",
        "dweight, dscalsd_data_C = weight_graph.backword(dweighted_data) #미분\n",
        "print(dbias)\n",
        "print(dweight)"
      ],
      "metadata": {
        "colab": {
          "base_uri": "https://localhost:8080/"
        },
        "id": "mHG8yspYnC-T",
        "outputId": "06ea9de8-272e-4c74-9f53-3d075cd5c71c"
      },
      "execution_count": null,
      "outputs": [
        {
          "output_type": "stream",
          "name": "stdout",
          "text": [
            "1\n",
            "[0.   0.01 0.02 0.03 0.04 0.05 0.06 0.07 0.08 0.09 0.1  0.11 0.12 0.13\n",
            " 0.14 0.15 0.16 0.17 0.18 0.19 0.2  0.21 0.22 0.23 0.24 0.25 0.26 0.27\n",
            " 0.28 0.29 0.3  0.31 0.32 0.33 0.34 0.35 0.36 0.37 0.38 0.39 0.4  0.41\n",
            " 0.42 0.43 0.44 0.45 0.46 0.47 0.48 0.49 0.5  0.51 0.52 0.53 0.54 0.55\n",
            " 0.56 0.57 0.58 0.59 0.6  0.61 0.62 0.63 0.64 0.65 0.66 0.67 0.68 0.69\n",
            " 0.7  0.71 0.72 0.73 0.74 0.75 0.76 0.77 0.78 0.79 0.8  0.81 0.82 0.83\n",
            " 0.84 0.85 0.86 0.87 0.88 0.89 0.9  0.91 0.92 0.93 0.94 0.95 0.96 0.97\n",
            " 0.98 0.99]\n"
          ]
        }
      ]
    },
    {
      "cell_type": "code",
      "source": [
        "mseGraph = mse_graph()\n",
        "mse = mseGraph.forward(predict_data,scaled_data_F) #편차\n",
        "print(mse)"
      ],
      "metadata": {
        "colab": {
          "base_uri": "https://localhost:8080/"
        },
        "id": "VEq1VzQLqjKV",
        "outputId": "d15de3b4-79b4-40ce-b644-8c28cd26bf0d"
      },
      "execution_count": null,
      "outputs": [
        {
          "output_type": "stream",
          "name": "stdout",
          "text": [
            "1.029958086145609\n"
          ]
        }
      ]
    },
    {
      "cell_type": "code",
      "source": [
        "weight_mse_gradient, bias_mse_gradient = mseGraph.backward(scaled_data_C) #미분\n",
        "print(weight_mse_gradient)\n",
        "print(bias_mse_gradient)"
      ],
      "metadata": {
        "colab": {
          "base_uri": "https://localhost:8080/"
        },
        "id": "wXnggVsMxO1X",
        "outputId": "45cd9b5a-37a5-4a38-86b6-02c04d59fba5"
      },
      "execution_count": null,
      "outputs": [
        {
          "output_type": "stream",
          "name": "stdout",
          "text": [
            "1.1483105112919774\n",
            "1.5687093135054937\n"
          ]
        }
      ]
    },
    {
      "cell_type": "code",
      "source": [
        "learning_rate = 0.1\n",
        "learned_weight = weight - \\\n",
        "learning_rate * weight_mse_gradient *np.average(dweight)\n",
        "print('befor learning weight :',weight)\n",
        "print('after learning weight :',learned_weight)"
      ],
      "metadata": {
        "colab": {
          "base_uri": "https://localhost:8080/"
        },
        "id": "j2tqYIdJxfLn",
        "outputId": "a63a7cb1-be0c-47d1-b739-1c27fb2a28bd"
      },
      "execution_count": null,
      "outputs": [
        {
          "output_type": "stream",
          "name": "stdout",
          "text": [
            "befor learning weight : [4.03101951]\n",
            "after learning weight : [3.97417814]\n"
          ]
        }
      ]
    },
    {
      "cell_type": "code",
      "source": [
        "learned_bias = bias - learning_rate * bias_mse_gradient *dbias\n",
        "print('before learning bias :',bias)\n",
        "print('after leaning bias   :',learned_bias)"
      ],
      "metadata": {
        "colab": {
          "base_uri": "https://localhost:8080/"
        },
        "id": "PXfYla8lyYvn",
        "outputId": "22b8fbfe-f179-4f3f-e2a3-0d344a4512d2"
      },
      "execution_count": null,
      "outputs": [
        {
          "output_type": "stream",
          "name": "stdout",
          "text": [
            "before learning bias : 0\n",
            "after leaning bias   : -0.1568709313505494\n"
          ]
        }
      ]
    },
    {
      "cell_type": "code",
      "source": [
        "error_list= []\n",
        "weight_list = []\n",
        "bias_list = []\n",
        "for i in range(1000):\n",
        "    #forward\n",
        "    weighted_data= weight_graph.forward(\n",
        "        weight, scaled_data_C)\n",
        "    predict_data = bias_graph.forward(\n",
        "        weighted_data,bias)\n",
        "    #backword\n",
        "    dout=1\n",
        "    dbias, dweighted_data = bias_graph.backword(dout)\n",
        "    dweight, dscaled_data_C =weight_graph.backword(dweighted_data)\n",
        "    #mse\n",
        "    mse = mseGraph.forward(predict_data,scaled_data_F)\n",
        "    error_list.append(mse)\n",
        "    weight_mse_gradient,bias_mse_gradient = \\\n",
        "    mseGraph.backward(scaled_data_C)\n",
        "    #learning\n",
        "    weight_list.append(weight)\n",
        "    weight = weight -learning_rate * weight_mse_gradient * np.average(dweight)\n",
        "    bias_list.append(bias)\n",
        "    bias = bias -learning_rate * bias_mse_gradient * dbias\n",
        "weight_list.append(weight)\n",
        "bias_list.append(bias)\n",
        "print(weight)\n",
        "print(bias)"
      ],
      "metadata": {
        "colab": {
          "base_uri": "https://localhost:8080/"
        },
        "id": "Mk-Fao_70RkQ",
        "outputId": "347feb11-ddb4-499f-ec57-3b30da1c243c"
      },
      "execution_count": null,
      "outputs": [
        {
          "output_type": "stream",
          "name": "stdout",
          "text": [
            "[1.80130932]\n",
            "0.31932724244616983\n"
          ]
        }
      ]
    },
    {
      "cell_type": "code",
      "source": [
        "print(error_list[-1])"
      ],
      "metadata": {
        "colab": {
          "base_uri": "https://localhost:8080/"
        },
        "id": "Wir7irJS5CsK",
        "outputId": "3ca22b28-357c-4d8d-9699-a21cfff0d273"
      },
      "execution_count": null,
      "outputs": [
        {
          "output_type": "stream",
          "name": "stdout",
          "text": [
            "1.4557779282117766e-07\n"
          ]
        }
      ]
    },
    {
      "cell_type": "code",
      "source": [
        "import matplotlib.pyplot as plt\n",
        "plt.plot(error_list)\n",
        "plt.show()"
      ],
      "metadata": {
        "colab": {
          "base_uri": "https://localhost:8080/",
          "height": 430
        },
        "id": "K-NJ8o2w5NU6",
        "outputId": "42f1d363-ba5c-4023-9331-8d9da7cfcfbc"
      },
      "execution_count": null,
      "outputs": [
        {
          "output_type": "display_data",
          "data": {
            "text/plain": [
              "<Figure size 640x480 with 1 Axes>"
            ],
            "image/png": "[encoded data removed]"
          },
          "metadata": {}
        }
      ]
    },
    {
      "cell_type": "code",
      "source": [
        "plt.plot(weight_list)\n",
        "plt.show()"
      ],
      "metadata": {
        "colab": {
          "base_uri": "https://localhost:8080/",
          "height": 430
        },
        "id": "N5DXbU8B5aIK",
        "outputId": "5d402dab-adb9-4ecd-e1ed-c8ffcdd10ad0"
      },
      "execution_count": null,
      "outputs": [
        {
          "output_type": "display_data",
          "data": {
            "text/plain": [
              "<Figure size 640x480 with 1 Axes>"
            ],
            "image/png": "[encoded data removed]"
          },
          "metadata": {}
        }
      ]
    },
    {
      "cell_type": "code",
      "source": [
        "plt.plot(bias_list)\n",
        "plt.show()"
      ],
      "metadata": {
        "colab": {
          "base_uri": "https://localhost:8080/",
          "height": 430
        },
        "id": "dn1FZ3bF5lNK",
        "outputId": "6e90dfc6-07b8-4503-9cc6-f1684814f522"
      },
      "execution_count": null,
      "outputs": [
        {
          "output_type": "display_data",
          "data": {
            "text/plain": [
              "<Figure size 640x480 with 1 Axes>"
            ],
            "image/png": "[encoded data removed]"
          },
          "metadata": {}
        }
      ]
    }
  ]
}